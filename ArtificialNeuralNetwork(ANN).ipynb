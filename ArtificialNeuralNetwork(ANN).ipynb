{
  "nbformat": 4,
  "nbformat_minor": 0,
  "metadata": {
    "colab": {
      "name": "ArtificialNeuralNetwork(ANN).ipynb",
      "provenance": []
    },
    "kernelspec": {
      "name": "python3",
      "display_name": "Python 3"
    },
    "language_info": {
      "name": "python"
    }
  },
  "cells": [
    {
      "cell_type": "markdown",
      "metadata": {
        "id": "BwmZJVlByHBx"
      },
      "source": [
        "Logika XOR\n",
        "```\n",
        " X1  | X2 | op\n",
        " ----|----|----\n",
        " 0   | 0  | 0 \n",
        " 1   | 0  | 1\n",
        " 0   | 1  | 1\n",
        " 1   | 1  | 0 \n",
        "```\n",
        "\n",
        "\n",
        "\n"
      ]
    },
    {
      "cell_type": "code",
      "metadata": {
        "id": "D5_Qs8phx0Mg"
      },
      "source": [
        "import pandas as pd\n",
        "import numpy as np\n",
        "import math"
      ],
      "execution_count": 1,
      "outputs": []
    },
    {
      "cell_type": "code",
      "metadata": {
        "id": "0F6jdQFeyxpM"
      },
      "source": [
        "data = pd.DataFrame([[0,0,0],[1,0,1],[0,1,1],[1,1,0]],columns=['x1','x2','op'])"
      ],
      "execution_count": 2,
      "outputs": []
    },
    {
      "cell_type": "markdown",
      "metadata": {
        "id": "0bYKUJbg0dXG"
      },
      "source": [
        "activation function = sigmoid ,it will convert value between 0-1 "
      ]
    },
    {
      "cell_type": "code",
      "metadata": {
        "id": "IyNEVUV9zexO"
      },
      "source": [
        "def sigmoid(z):\n",
        "  return 1/(1+np.exp(-z))"
      ],
      "execution_count": 3,
      "outputs": []
    },
    {
      "cell_type": "markdown",
      "metadata": {
        "id": "do_vJGZr0lwZ"
      },
      "source": [
        "first derivative of sigmoid"
      ]
    },
    {
      "cell_type": "code",
      "metadata": {
        "id": "qdT2xwsa0TS7"
      },
      "source": [
        "def derivativeSigmoid(z):\n",
        "  return z*(1-z)"
      ],
      "execution_count": 4,
      "outputs": []
    },
    {
      "cell_type": "markdown",
      "metadata": {
        "id": "nATUMyyx02QP"
      },
      "source": [
        "ANN \n",
        "layer input = 2 neuron (2 input)\n",
        "1 hidden layer = 4 neuron\n",
        "1 output layer = 1 between 0 and 1"
      ]
    },
    {
      "cell_type": "code",
      "metadata": {
        "id": "JadmEHl00qFJ"
      },
      "source": [
        "epoch = 15000\n",
        "weight1 = np.random.uniform(0,1,(2,4)) # input ke hidden\n",
        "weight2 = np.random.uniform(0,1,(4,1)) # hidden ke output\n",
        "bias1 = np.random.uniform(0,1,1)\n",
        "bias2 = np.random.uniform(0,1,1)\n",
        "learning_rate = 0.05"
      ],
      "execution_count": 17,
      "outputs": []
    },
    {
      "cell_type": "code",
      "metadata": {
        "id": "8l7pTONM1l-a"
      },
      "source": [
        "lists = []\n",
        "for i in range(epoch):\n",
        "  for j in range(data.shape[0]):\n",
        "    mse=[]\n",
        "    X = data.iloc[j][['x1','x2']].to_numpy().reshape(2,1)\n",
        "    Y = data.iloc[j]['op']\n",
        "    #forward\n",
        "    hidin = np.dot(X.T,weight1) \n",
        "    hidin = hidin+bias1\n",
        "    hidout = sigmoid(hidin)\n",
        "    \n",
        "    outin = np.dot(hidout,weight2)\n",
        "    outin = outin+bias2\n",
        "    outout = sigmoid(outin)\n",
        "\n",
        "    out1 = outout-Y\n",
        "    outtonet = derivativeSigmoid(outout)\n",
        "\n",
        "    #backward2\n",
        "    bias1 = bias1 - learning_rate*np.sum((out1*outtonet*weight2.T*derivativeSigmoid(hidout)))\n",
        "    weight1 = weight1 - learning_rate*np.dot(X,(out1*outtonet*weight2.T*derivativeSigmoid(hidout)))\n",
        "    bias2 = bias2-learning_rate*np.sum((out1*outtonet))\n",
        "    weight2 = weight2 - learning_rate*(out1*outtonet*hidout.T)\n",
        "    mse.append(out1)\n",
        "  lists.append(np.mean(mse))"
      ],
      "execution_count": 18,
      "outputs": []
    },
    {
      "cell_type": "code",
      "metadata": {
        "colab": {
          "base_uri": "https://localhost:8080/",
          "height": 282
        },
        "id": "ZZUjJAR75Tk2",
        "outputId": "970f89a9-af6b-45a5-e28b-e8b6d78056f1"
      },
      "source": [
        "import matplotlib.pyplot as plt\n",
        "plt.plot(np.array(lists).reshape(epoch,1))"
      ],
      "execution_count": 21,
      "outputs": [
        {
          "output_type": "execute_result",
          "data": {
            "text/plain": [
              "[<matplotlib.lines.Line2D at 0x7f09f5138210>]"
            ]
          },
          "metadata": {},
          "execution_count": 21
        },
        {
          "output_type": "display_data",
          "data": {
            "image/png": "[encoded data removed]",
            "text/plain": [
              "<Figure size 432x288 with 1 Axes>"
            ]
          },
          "metadata": {
            "needs_background": "light"
          }
        }
      ]
    },
    {
      "cell_type": "code",
      "metadata": {
        "id": "ma9v_wT9CpMx"
      },
      "source": [
        "pred=[]\n",
        "for j in range(data.shape[0]):\n",
        "    X = data.iloc[j][['x1','x2']].to_numpy().reshape(2,1)\n",
        "    Y = data.iloc[j]['op']\n",
        "    #forward\n",
        "    hidin = np.dot(X.T,weight1) # 1x4\n",
        "    hidin = hidin+bias1\n",
        "    hidout = sigmoid(hidin) #1x4\n",
        "    \n",
        "    outin = np.dot(hidout,weight2) #1x1\n",
        "    outin = outin+bias2\n",
        "    outout = sigmoid(outin)#1x1\n",
        "    pred.append(outout[0,0])"
      ],
      "execution_count": 27,
      "outputs": []
    },
    {
      "cell_type": "code",
      "metadata": {
        "colab": {
          "base_uri": "https://localhost:8080/",
          "height": 142
        },
        "id": "9ZQSacGY32ky",
        "outputId": "3e91cfa3-e7c1-4769-8d11-eda1b706a9ba"
      },
      "source": [
        "pd.crosstab(data['op'],np.array(pred).round())"
      ],
      "execution_count": 32,
      "outputs": [
        {
          "output_type": "execute_result",
          "data": {
            "text/html": [
              "<div>\n",
              "<style scoped>\n",
              "    .dataframe tbody tr th:only-of-type {\n",
              "        vertical-align: middle;\n",
              "    }\n",
              "\n",
              "    .dataframe tbody tr th {\n",
              "        vertical-align: top;\n",
              "    }\n",
              "\n",
              "    .dataframe thead th {\n",
              "        text-align: right;\n",
              "    }\n",
              "</style>\n",
              "<table border=\"1\" class=\"dataframe\">\n",
              "  <thead>\n",
              "    <tr style=\"text-align: right;\">\n",
              "      <th>col_0</th>\n",
              "      <th>0.0</th>\n",
              "      <th>1.0</th>\n",
              "    </tr>\n",
              "    <tr>\n",
              "      <th>op</th>\n",
              "      <th></th>\n",
              "      <th></th>\n",
              "    </tr>\n",
              "  </thead>\n",
              "  <tbody>\n",
              "    <tr>\n",
              "      <th>0</th>\n",
              "      <td>2</td>\n",
              "      <td>0</td>\n",
              "    </tr>\n",
              "    <tr>\n",
              "      <th>1</th>\n",
              "      <td>0</td>\n",
              "      <td>2</td>\n",
              "    </tr>\n",
              "  </tbody>\n",
              "</table>\n",
              "</div>"
            ],
            "text/plain": [
              "col_0  0.0  1.0\n",
              "op             \n",
              "0        2    0\n",
              "1        0    2"
            ]
          },
          "metadata": {},
          "execution_count": 32
        }
      ]
    }
  ]
}